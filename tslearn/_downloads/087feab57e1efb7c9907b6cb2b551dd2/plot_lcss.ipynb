{
  "cells": [
    {
      "cell_type": "code",
      "execution_count": null,
      "metadata": {
        "collapsed": false
      },
      "outputs": [],
      "source": [
        "%matplotlib inline"
      ]
    },
    {
      "cell_type": "markdown",
      "metadata": {},
      "source": [
        "\n# Longest Common Subsequence\n\nThis example illustrates LCSS computation between time series and plots the\nalignment path [1]. and its relationship to the DTW.\n\nSince LCSS focuses on the similar parts between two time-series, a potential\nuse case is to identify the similarity between time-series whose lengths differ\ngreatly or have noise. As one example, M. Vlachos et al. [1] used this method\nto cluster time series regarding human writing in the presence of noise.\n\nThe example demonstrates the use of the functions `lcss_path` and `dtw_path`\nto calculate the alignment path between them and compare the two approaches\nwhen dealing with unequal-length sequence data and noise.\n\n[1] M. Vlachos, D. Gunopoulos, and G. Kollios. 2002. \"Discovering Similar\nMultidimensional Trajectories\", In Proceedings of the 18th International\nConference on Data Engineering (ICDE '02). IEEE Computer Society, USA, 673.\n"
      ]
    },
    {
      "cell_type": "code",
      "execution_count": null,
      "metadata": {
        "collapsed": false
      },
      "outputs": [],
      "source": [
        "# Author: Daniela Duarte\n# License: BSD 3 clause\n\nimport numpy\nimport matplotlib.pyplot as plt\n\nfrom tslearn.generators import random_walks\nfrom tslearn.preprocessing import TimeSeriesScalerMeanVariance\nfrom tslearn import metrics\n\n\nnumpy.random.seed(0)\nn_ts, sz, d = 2, 100, 1\ndataset = random_walks(n_ts=n_ts, sz=sz, d=d, random_state=5)\nscaler = TimeSeriesScalerMeanVariance(mu=0., std=1.)  # Rescale time series\ndataset_scaled = scaler.fit_transform(dataset)\n\nlcss_path, sim_lcss = metrics.lcss_path(dataset_scaled[0, :, 0], dataset_scaled[1, :40, 0], eps=1.5)\ndtw_path, sim_dtw = metrics.dtw_path(dataset_scaled[0, :, 0], dataset_scaled[1, :40, 0])\n\nplt.figure(1, figsize=(8, 8))\n\nplt.plot(dataset_scaled[0, :, 0], \"b-\", label='First time series')\nplt.plot(dataset_scaled[1, :40, 0], \"g-\", label='Second time series')\n\nfor positions in lcss_path:\n    plt.plot([positions[0], positions[1]],\n             [dataset_scaled[0, positions[0], 0], dataset_scaled[1, positions[1], 0]], color='orange')\nplt.legend()\nplt.title(\"Time series matching with LCSS\")\n\nplt.figure(2, figsize=(8, 8))\nplt.plot(dataset_scaled[0, :, 0], \"b-\", label='First time series')\nplt.plot(dataset_scaled[1, :40, 0], \"g-\", label='Second time series')\n\nfor positions in dtw_path:\n    plt.plot([positions[0], positions[1]],\n             [dataset_scaled[0, positions[0], 0], dataset_scaled[1, positions[1], 0]], color='orange')\n\nplt.legend()\nplt.title(\"Time series matching with DTW\")\n\nplt.tight_layout()\nplt.show()"
      ]
    }
  ],
  "metadata": {
    "kernelspec": {
      "display_name": "Python 3",
      "language": "python",
      "name": "python3"
    },
    "language_info": {
      "codemirror_mode": {
        "name": "ipython",
        "version": 3
      },
      "file_extension": ".py",
      "mimetype": "text/x-python",
      "name": "python",
      "nbconvert_exporter": "python",
      "pygments_lexer": "ipython3",
      "version": "3.7.8"
    }
  },
  "nbformat": 4,
  "nbformat_minor": 0
}
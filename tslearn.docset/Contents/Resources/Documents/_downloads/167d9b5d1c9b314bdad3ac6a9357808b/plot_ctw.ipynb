{
  "cells": [
    {
      "cell_type": "code",
      "execution_count": null,
      "metadata": {
        "collapsed": false
      },
      "outputs": [],
      "source": [
        "%matplotlib inline"
      ]
    },
    {
      "cell_type": "markdown",
      "metadata": {},
      "source": [
        "\n# Canonical Time Warping\n\nThis example illustrates the use of Canonical Time Warping (CTW) between time \nseries and plots the matches obtained by the method [1]_.\n\nNote that, contrary to Dynamic Time Warping (DTW) [2]_, CTW can almost retrieve\nthe ground-truth alignment (green matches) even when time series have suffered \na rigid transformation (rotation+translation here).\n\nThe time series at stake in this example are color-coded trajectories whose \nstarting (resp. end) point are depicted in blue (resp. red).\n       \n.. [1] F. Zhou and F. Torre, \"Canonical time warping for alignment of human \n       behavior\". NIPS 2009.\n\n.. [2] H. Sakoe and S. Chiba, \"Dynamic programming algorithm optimization\n       for spoken word recognition\". IEEE Transactions on Acoustics, Speech,\n       and Signal Processing, 26(1), 43-49 (1978).\n"
      ]
    },
    {
      "cell_type": "code",
      "execution_count": null,
      "metadata": {
        "collapsed": false
      },
      "outputs": [],
      "source": [
        "# Author: Romain Tavenard\n# License: BSD 3 clause\n\nimport matplotlib.pyplot as plt\nimport numpy as np\n\nfrom tslearn.metrics import dtw_path, ctw_path\n\ndef plot_trajectory(ts, ax, color_code=None, alpha=1.):\n    if color_code is not None:\n        colors = [color_code] * len(ts)\n    else:\n        colors = plt.cm.jet(np.linspace(0, 1, len(ts)))\n    for i in range(len(ts) - 1):\n        ax.plot(ts[i:i+2, 0], ts[i:i+2, 1],\n                marker='o', c=colors[i], alpha=alpha)\n\n\ndef get_rot2d(theta):\n    return np.array(\n        [[np.cos(theta), -np.sin(theta)],\n         [np.sin(theta), np.cos(theta)]]\n    )\n\n\ndef make_one_folium(sz, a=1., noise=.1, resample_fun=None):\n    theta = np.linspace(0, 1, sz)\n    if resample_fun is not None:\n        theta = resample_fun(theta)\n    theta -= .5\n    theta *= .9 * np.pi\n    theta = theta.reshape((-1, 1))\n    r = a / 2 * (4 * np.cos(theta) - 1. / np.cos(theta))\n    x = r * np.cos(theta) + np.random.rand(sz, 1) * noise\n    y = r * np.sin(theta) + np.random.rand(sz, 1) * noise\n    return np.array(np.hstack((x, y)))\n\ntrajectory = make_one_folium(sz=30).dot(get_rot2d(np.pi + np.pi / 3))\nrotated_trajectory = trajectory.dot(get_rot2d(np.pi / 4)) + np.array([0., 3.])\n\npath_dtw, _ = dtw_path(trajectory, rotated_trajectory)\n\npath_ctw, cca, _ = ctw_path(trajectory, rotated_trajectory,\n                            max_iter=100, n_components=2)\n\nplt.figure(figsize=(8, 4))\nax = plt.subplot(1, 2, 1)\nfor (i, j) in path_dtw:\n    ax.plot([trajectory[i, 0], rotated_trajectory[j, 0]],\n            [trajectory[i, 1], rotated_trajectory[j, 1]],\n            color='g' if i == j else 'r', alpha=.5)\nplot_trajectory(trajectory, ax)\nplot_trajectory(rotated_trajectory, ax)\nax.set_xticks([])\nax.set_yticks([])\nax.set_title(\"DTW\")\n\nax = plt.subplot(1, 2, 2)\nfor (i, j) in path_ctw:\n    ax.plot([trajectory[i, 0], rotated_trajectory[j, 0]],\n            [trajectory[i, 1], rotated_trajectory[j, 1]],\n            color='g' if i == j else 'r', alpha=.5)\nplot_trajectory(trajectory, ax)\nplot_trajectory(rotated_trajectory, ax)\nax.set_xticks([])\nax.set_yticks([])\nax.set_title(\"CTW\")\n\nplt.tight_layout()\nplt.show()"
      ]
    }
  ],
  "metadata": {
    "kernelspec": {
      "display_name": "Python 3",
      "language": "python",
      "name": "python3"
    },
    "language_info": {
      "codemirror_mode": {
        "name": "ipython",
        "version": 3
      },
      "file_extension": ".py",
      "mimetype": "text/x-python",
      "name": "python",
      "nbconvert_exporter": "python",
      "pygments_lexer": "ipython3",
      "version": "3.7.8"
    }
  },
  "nbformat": 4,
  "nbformat_minor": 0
}